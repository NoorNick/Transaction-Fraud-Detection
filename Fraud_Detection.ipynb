{
 "cells": [
  {
   "cell_type": "markdown",
   "id": "feb92061",
   "metadata": {},
   "source": [
    "## Fraud Detection System using KNN"
   ]
  },
  {
   "cell_type": "markdown",
   "id": "32570530",
   "metadata": {},
   "source": [
    "### Import needed libraries"
   ]
  },
  {
   "cell_type": "code",
   "execution_count": 15,
   "id": "f1e43d60",
   "metadata": {},
   "outputs": [],
   "source": [
    "from sklearn.neighbors import NearestNeighbors\n",
    "import numpy as np\n",
    "from sklearn.neighbors import LocalOutlierFactor"
   ]
  },
  {
   "cell_type": "markdown",
   "id": "635bacb3",
   "metadata": {},
   "source": [
    "### Build the Fraud Detector"
   ]
  },
  {
   "cell_type": "code",
   "execution_count": 16,
   "id": "a738337a",
   "metadata": {},
   "outputs": [],
   "source": [
    "class FraudDetector:\n",
    "    def __init__(self, contamination=0.2):\n",
    "        \"\"\"Initialize the fraud detector\"\"\"\n",
    "        self.model = LocalOutlierFactor(\n",
    "            n_neighbors=20,\n",
    "            contamination=contamination\n",
    "        )\n",
    "        \n",
    "    def detect(self, transaction_data):\n",
    "        \"\"\"Detect potential fraud\"\"\"\n",
    "        # -1 for anomalies (potential fraud), 1 for normal transactions\n",
    "        predictions = self.model.fit_predict(transaction_data)\n",
    "        \n",
    "        # Get anomaly scores\n",
    "        scores = -self.model.negative_outlier_factor_\n",
    "        \n",
    "        return predictions, scores\n",
    "        \n",
    "    def analyze_findings(self, transaction_data, predictions, scores):\n",
    "        \"\"\"Analyze detected anomalies\"\"\"\n",
    "        fraud_indices = np.where(predictions == -1)[0]\n",
    "        \n",
    "        results = []\n",
    "        for idx in fraud_indices:\n",
    "            results.append({\n",
    "                'transaction_id': idx,\n",
    "                'data': transaction_data[idx],\n",
    "                'fraud_score': scores[idx]\n",
    "            })\n",
    "            \n",
    "        return sorted(results, key=lambda x: x['fraud_score'], \n",
    "                     reverse=True)"
   ]
  },
  {
   "cell_type": "markdown",
   "id": "3e2be30a",
   "metadata": {},
   "source": [
    "### Test and Evaluate the model"
   ]
  },
  {
   "cell_type": "code",
   "execution_count": 17,
   "id": "d29b11c6",
   "metadata": {},
   "outputs": [
    {
     "name": "stdout",
     "output_type": "stream",
     "text": [
      "Potential fraud cases:\n",
      "Transaction 1: Score 1.01\n"
     ]
    },
    {
     "name": "stderr",
     "output_type": "stream",
     "text": [
      "c:\\Users\\ASUS\\anaconda3\\Lib\\site-packages\\sklearn\\neighbors\\_lof.py:283: UserWarning: n_neighbors (20) is greater than the total number of samples (3). n_neighbors will be set to (n_samples - 1) for estimation.\n",
      "  warnings.warn(\n"
     ]
    }
   ],
   "source": [
    "# Example: Detecting Credit Card Fraud\n",
    "# Features: [amount, time, location, etc.]\n",
    "transactions = np.array([\n",
    "    [100, 10, 1],    # Normal transaction\n",
    "    [150, 12, 1],    # Normal transaction\n",
    "    [5000, 2, 3],    # Potential fraud\n",
    "])\n",
    "\n",
    "detector = FraudDetector()\n",
    "predictions, scores = detector.detect(transactions)\n",
    "fraud_cases = detector.analyze_findings(transactions, predictions, scores)\n",
    "\n",
    "print(\"Potential fraud cases:\")\n",
    "for case in fraud_cases:\n",
    "    print(f\"Transaction {case['transaction_id']}: Score {case['fraud_score']:.2f}\")"
   ]
  },
  {
   "cell_type": "markdown",
   "id": "0b7d20f0",
   "metadata": {},
   "source": [
    "### test the model using expanded data"
   ]
  },
  {
   "cell_type": "code",
   "execution_count": 18,
   "id": "2ed4f5e7",
   "metadata": {},
   "outputs": [
    {
     "name": "stdout",
     "output_type": "stream",
     "text": [
      "Potential fraud cases:\n",
      "Transaction 5: Score 1.03\n",
      "Transaction 6: Score 1.03\n",
      "Transaction 12: Score 1.03\n"
     ]
    },
    {
     "name": "stderr",
     "output_type": "stream",
     "text": [
      "c:\\Users\\ASUS\\anaconda3\\Lib\\site-packages\\sklearn\\neighbors\\_lof.py:283: UserWarning: n_neighbors (20) is greater than the total number of samples (15). n_neighbors will be set to (n_samples - 1) for estimation.\n",
      "  warnings.warn(\n"
     ]
    }
   ],
   "source": [
    "# expanded dataset:\n",
    "transactions = np.array([\n",
    "    [100, 10, 1],\n",
    "    [150, 12, 1],\n",
    "    [80, 15, 2],\n",
    "    [90, 18, 2],\n",
    "    [200, 9, 3],\n",
    "    [5000, 2, 3],\n",
    "    [4700, 3, 3],\n",
    "    [30, 50, 5],\n",
    "    [40, 52, 5],\n",
    "    [10000, 1, 8],\n",
    "    [20, 60, 1],\n",
    "    [25, 61, 1],\n",
    "    [6000, 4, 9],\n",
    "    [70, 20, 2],\n",
    "    [80, 21, 2],\n",
    "])\n",
    "\n",
    "detector = FraudDetector()\n",
    "predictions, scores = detector.detect(transactions)\n",
    "fraud_cases = detector.analyze_findings(transactions, predictions, scores)\n",
    "\n",
    "print(\"Potential fraud cases:\")\n",
    "for case in fraud_cases:\n",
    "    print(f\"Transaction {case['transaction_id']}: Score {case['fraud_score']:.2f}\")"
   ]
  },
  {
   "cell_type": "markdown",
   "id": "a74d87a3",
   "metadata": {},
   "source": [
    "### Scatter Plot that shows Transactions"
   ]
  },
  {
   "cell_type": "code",
   "execution_count": 20,
   "id": "04120fbf",
   "metadata": {},
   "outputs": [
    {
     "name": "stderr",
     "output_type": "stream",
     "text": [
      "c:\\Users\\ASUS\\anaconda3\\Lib\\site-packages\\sklearn\\neighbors\\_lof.py:283: UserWarning: n_neighbors (20) is greater than the total number of samples (15). n_neighbors will be set to (n_samples - 1) for estimation.\n",
      "  warnings.warn(\n"
     ]
    },
    {
     "data": {
      "image/png": "[encoded data removed]",
      "text/plain": [
       "<Figure size 800x500 with 1 Axes>"
      ]
     },
     "metadata": {},
     "output_type": "display_data"
    }
   ],
   "source": [
    "import numpy as np\n",
    "import matplotlib.pyplot as plt\n",
    "\n",
    "# Detect frauds\n",
    "predictions, scores = detector.detect(transactions)\n",
    "\n",
    "# Convert predictions to labels\n",
    "is_fraud = predictions == -1\n",
    "\n",
    "# Plot\n",
    "plt.figure(figsize=(8, 5))\n",
    "plt.scatter(transactions[~is_fraud, 0], transactions[~is_fraud, 1],\n",
    "            c='green', label='Normal', edgecolor='k', s=80)\n",
    "plt.scatter(transactions[is_fraud, 0], transactions[is_fraud, 1],\n",
    "            c='red', label='Fraud', edgecolor='k', s=80)\n",
    "\n",
    "plt.xlabel('Amount')\n",
    "plt.ylabel('Time')\n",
    "plt.title('Fraud Detection Visualization')\n",
    "plt.legend()\n",
    "plt.grid(True)\n",
    "plt.tight_layout()\n",
    "plt.show()\n"
   ]
  },
  {
   "cell_type": "code",
   "execution_count": null,
   "id": "06fbd6c6",
   "metadata": {},
   "outputs": [],
   "source": []
  }
 ],
 "metadata": {
  "kernelspec": {
   "display_name": "base",
   "language": "python",
   "name": "python3"
  },
  "language_info": {
   "codemirror_mode": {
    "name": "ipython",
    "version": 3
   },
   "file_extension": ".py",
   "mimetype": "text/x-python",
   "name": "python",
   "nbconvert_exporter": "python",
   "pygments_lexer": "ipython3",
   "version": "3.12.4"
  }
 },
 "nbformat": 4,
 "nbformat_minor": 5
}
